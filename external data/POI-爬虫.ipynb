{
 "cells": [
  {
   "cell_type": "code",
   "execution_count": 1,
   "metadata": {},
   "outputs": [
    {
     "data": {
      "text/html": [
       "<style>.container { width:90% !important; }</style>"
      ],
      "text/plain": [
       "<IPython.core.display.HTML object>"
      ]
     },
     "metadata": {},
     "output_type": "display_data"
    }
   ],
   "source": [
    "from IPython.core.display import display, HTML\n",
    "display(HTML(\"<style>.container { width:90% !important; }</style>\"))\n",
    "\n",
    "import numpy as np \n",
    "import pandas as pd \n",
    "import matplotlib.pyplot as plt\n",
    "import seaborn as sns\n",
    "\n",
    "%matplotlib inline\n",
    "pd.set_option('display.max_columns', 100)\n",
    "pd.set_option('max_colwidth', 500)\n",
    "\n",
    "import warnings\n",
    "import gc\n",
    "import time\n",
    "from tqdm import tqdm_notebook,tnrange\n",
    "\n",
    "\n",
    "#import urllib\n",
    "#import sys\n",
    "#import urllib.request\n",
    "from urllib.request import urlopen\n",
    "from urllib.parse import quote\n",
    "import json\n",
    "import requests"
   ]
  },
  {
   "cell_type": "code",
   "execution_count": 2,
   "metadata": {},
   "outputs": [],
   "source": [
    "def merge_data():\n",
    "    path = './'\n",
    "    train_plans_I   = pd.read_csv(path + 'train_plans_phase1.csv', parse_dates=['plan_time'])\n",
    "    train_plans_II   = pd.read_csv(path + 'train_plans_phase2.csv', parse_dates=['plan_time'])\n",
    "    train_queries_I = pd.read_csv(path + 'train_queries_phase1.csv', parse_dates=['req_time'])\n",
    "    train_queries_II = pd.read_csv(path + 'train_queries_phase2.csv', parse_dates=['req_time'])\n",
    "    test_plans    = pd.read_csv(path + 'test_plans.csv', parse_dates=['plan_time'])\n",
    "    test_queries  = pd.read_csv(path + 'test_queries.csv', parse_dates=['req_time'])\n",
    "    train_clicks_I  = pd.read_csv(path + 'train_clicks_phase1.csv')\n",
    "    train_clicks_II  = pd.read_csv(path + 'train_clicks_phase2.csv')\n",
    "    profiles      = pd.read_csv(path + 'profiles.csv') \n",
    "    \n",
    "    train_I = train_queries_I.merge(train_plans_I, 'left', ['sid'])\n",
    "    train_II = train_queries_II.merge(train_plans_II, 'left', ['sid'])\n",
    "    test  = test_queries.merge(test_plans, 'left', ['sid'])\n",
    "    train_I = train_I.merge(train_clicks_I, 'left', ['sid'])\n",
    "    train_II = train_II.merge(train_clicks_II, 'left', ['sid'])\n",
    "    train_I['click_mode'] = train_I['click_mode'].fillna(0).astype(int)\n",
    "    train_II['click_mode'] = train_II['click_mode'].fillna(0).astype(int)\n",
    "    data  = pd.concat([train_I, train_II, test], ignore_index=True)\n",
    "    data  = data.merge(profiles, 'left', ['pid']) \n",
    "\n",
    "    return data"
   ]
  },
  {
   "cell_type": "code",
   "execution_count": 15,
   "metadata": {},
   "outputs": [
    {
     "name": "stderr",
     "output_type": "stream",
     "text": [
      "E:\\Anaconda\\lib\\site-packages\\ipykernel_launcher.py:20: FutureWarning: Sorting because non-concatenation axis is not aligned. A future version\n",
      "of pandas will change to not sort by default.\n",
      "\n",
      "To accept the future behavior, pass 'sort=False'.\n",
      "\n",
      "To retain the current behavior and silence the warning, pass 'sort=True'.\n",
      "\n"
     ]
    }
   ],
   "source": [
    "data =merge_data()"
   ]
  },
  {
   "cell_type": "markdown",
   "metadata": {},
   "source": [
    "#### POI\n",
    "地铁, 公交, 医院, 大学, 中学, 住宅, 写字楼, 美食, 娱乐, 金融, 旅游, 火车站, 机场"
   ]
  },
  {
   "cell_type": "code",
   "execution_count": 23,
   "metadata": {},
   "outputs": [
    {
     "data": {
      "text/plain": [
       "{'status': 0,\n",
       " 'message': 'ok',\n",
       " 'total': 1,\n",
       " 'results': [{'name': '鱼斗泉',\n",
       "   'location': {'lat': 39.782902, 'lng': 115.452537},\n",
       "   'address': '房19路',\n",
       "   'province': '北京市',\n",
       "   'city': '北京市',\n",
       "   'area': '房山区',\n",
       "   'detail': 0,\n",
       "   'uid': '24cdb2fa9182075636b06c82'}]}"
      ]
     },
     "execution_count": 23,
     "metadata": {},
     "output_type": "execute_result"
    }
   ],
   "source": [
    "#trial\n",
    "json.load(urlopen('http://api.map.baidu.com/place/v2/search?query=%E5%85%AC%E4%BA%A4%E7%AB%99&bounds=39.7749,115.4349,39.7851,115.4451&output=json&page_size=20&coord_type=1&ak=LlNVsWOsqmKwlqkUEBmzbpmbu2GAc2Dl'))"
   ]
  },
  {
   "cell_type": "code",
   "execution_count": 16,
   "metadata": {},
   "outputs": [],
   "source": [
    "data.drop_duplicates(subset=['o'],inplace=True)"
   ]
  },
  {
   "cell_type": "code",
   "execution_count": 17,
   "metadata": {},
   "outputs": [
    {
     "data": {
      "text/plain": [
       "(15203, 75)"
      ]
     },
     "execution_count": 17,
     "metadata": {},
     "output_type": "execute_result"
    }
   ],
   "source": [
    "data.shape"
   ]
  },
  {
   "cell_type": "code",
   "execution_count": 18,
   "metadata": {},
   "outputs": [],
   "source": [
    "data['o_lng'] = data['o'].apply(lambda x: float(x.split(',')[0]))\n",
    "data['o_lat'] = data['o'].apply(lambda x: float(x.split(',')[1]))\n",
    "data['d_lng'] = data['d'].apply(lambda x: float(x.split(',')[0]))\n",
    "data['d_lat'] = data['d'].apply(lambda x: float(x.split(',')[1])) "
   ]
  },
  {
   "cell_type": "code",
   "execution_count": 19,
   "metadata": {},
   "outputs": [],
   "source": [
    "data = data.reset_index(drop=True)"
   ]
  },
  {
   "cell_type": "code",
   "execution_count": 20,
   "metadata": {},
   "outputs": [],
   "source": [
    "res = pd.DataFrame()\n",
    "res['o'] = data['o']"
   ]
  },
  {
   "cell_type": "code",
   "execution_count": 43,
   "metadata": {},
   "outputs": [
    {
     "data": {
      "text/html": [
       "<div>\n",
       "<style scoped>\n",
       "    .dataframe tbody tr th:only-of-type {\n",
       "        vertical-align: middle;\n",
       "    }\n",
       "\n",
       "    .dataframe tbody tr th {\n",
       "        vertical-align: top;\n",
       "    }\n",
       "\n",
       "    .dataframe thead th {\n",
       "        text-align: right;\n",
       "    }\n",
       "</style>\n",
       "<table border=\"1\" class=\"dataframe\">\n",
       "  <thead>\n",
       "    <tr style=\"text-align: right;\">\n",
       "      <th></th>\n",
       "      <th>o</th>\n",
       "      <th>district_o</th>\n",
       "    </tr>\n",
       "  </thead>\n",
       "  <tbody>\n",
       "    <tr>\n",
       "      <th>0</th>\n",
       "      <td>116.34,39.99</td>\n",
       "      <td>海淀区</td>\n",
       "    </tr>\n",
       "    <tr>\n",
       "      <th>1</th>\n",
       "      <td>116.43,39.94</td>\n",
       "      <td>东城区</td>\n",
       "    </tr>\n",
       "    <tr>\n",
       "      <th>2</th>\n",
       "      <td>116.28,40.01</td>\n",
       "      <td>海淀区</td>\n",
       "    </tr>\n",
       "    <tr>\n",
       "      <th>3</th>\n",
       "      <td>116.31,39.51</td>\n",
       "      <td>大兴区</td>\n",
       "    </tr>\n",
       "    <tr>\n",
       "      <th>4</th>\n",
       "      <td>116.33,39.89</td>\n",
       "      <td>西城区</td>\n",
       "    </tr>\n",
       "  </tbody>\n",
       "</table>\n",
       "</div>"
      ],
      "text/plain": [
       "              o district_o\n",
       "0  116.34,39.99        海淀区\n",
       "1  116.43,39.94        东城区\n",
       "2  116.28,40.01        海淀区\n",
       "3  116.31,39.51        大兴区\n",
       "4  116.33,39.89        西城区"
      ]
     },
     "execution_count": 43,
     "metadata": {},
     "output_type": "execute_result"
    }
   ],
   "source": [
    "res.head()"
   ]
  },
  {
   "cell_type": "code",
   "execution_count": 29,
   "metadata": {},
   "outputs": [
    {
     "data": {
      "text/plain": [
       "{'status': 0,\n",
       " 'message': 'ok',\n",
       " 'total': 1,\n",
       " 'results': [{'name': '尚信村西',\n",
       "   'location': {'lat': 40.143219, 'lng': 116.387493},\n",
       "   'address': '昌52路',\n",
       "   'province': '北京市',\n",
       "   'city': '北京市',\n",
       "   'area': '昌平区',\n",
       "   'detail': 0,\n",
       "   'uid': 'f003b73ec5873b38f4b91683'}]}"
      ]
     },
     "execution_count": 29,
     "metadata": {},
     "output_type": "execute_result"
    }
   ],
   "source": [
    "url = 'http://api.map.baidu.com/place/v2/search?query=%E5%85%AC%E4%BA%A4%E7%AB%99'+f'&bounds={lat_0},{lng_0},{lat_1},{lng_1}&output=json&page_size=20&coord_type=1&ak=LlNVsWOsqmKwlqkUEBmzbpmbu2GAc2Dl'\n",
    "response = urlopen(url)\n",
    "page = json.load(response)\n",
    "page.area"
   ]
  },
  {
   "cell_type": "code",
   "execution_count": 48,
   "metadata": {},
   "outputs": [
    {
     "data": {
      "text/plain": [
       "39.9051"
      ]
     },
     "execution_count": 48,
     "metadata": {},
     "output_type": "execute_result"
    }
   ],
   "source": [
    "lat_1"
   ]
  },
  {
   "cell_type": "code",
   "execution_count": 51,
   "metadata": {
    "scrolled": true
   },
   "outputs": [
    {
     "data": {
      "application/vnd.jupyter.widget-view+json": {
       "model_id": "25c2618e8e57471894fa2c4e83df5710",
       "version_major": 2,
       "version_minor": 0
      },
      "text/plain": [
       "HBox(children=(IntProgress(value=0, max=15203), HTML(value='')))"
      ]
     },
     "metadata": {},
     "output_type": "display_data"
    },
    {
     "ename": "KeyError",
     "evalue": "'area'",
     "output_type": "error",
     "traceback": [
      "\u001b[1;31m---------------------------------------------------------------------------\u001b[0m",
      "\u001b[1;31mKeyError\u001b[0m                                  Traceback (most recent call last)",
      "\u001b[1;32m<ipython-input-51-1d923c464c63>\u001b[0m in \u001b[0;36m<module>\u001b[1;34m\u001b[0m\n\u001b[0;32m     18\u001b[0m     \u001b[0mpage\u001b[0m \u001b[1;33m=\u001b[0m \u001b[0mjson\u001b[0m\u001b[1;33m.\u001b[0m\u001b[0mload\u001b[0m\u001b[1;33m(\u001b[0m\u001b[0mresponse\u001b[0m\u001b[1;33m)\u001b[0m\u001b[1;33m\u001b[0m\u001b[1;33m\u001b[0m\u001b[0m\n\u001b[0;32m     19\u001b[0m     \u001b[0mtube_stops\u001b[0m\u001b[1;33m.\u001b[0m\u001b[0mappend\u001b[0m\u001b[1;33m(\u001b[0m\u001b[0mpage\u001b[0m\u001b[1;33m)\u001b[0m\u001b[1;33m\u001b[0m\u001b[1;33m\u001b[0m\u001b[0m\n\u001b[1;32m---> 20\u001b[1;33m     \u001b[0mres\u001b[0m\u001b[1;33m.\u001b[0m\u001b[0mat\u001b[0m\u001b[1;33m[\u001b[0m\u001b[0mi\u001b[0m\u001b[1;33m,\u001b[0m \u001b[1;34m'district_o'\u001b[0m\u001b[1;33m]\u001b[0m \u001b[1;33m=\u001b[0m \u001b[0mstr\u001b[0m\u001b[1;33m(\u001b[0m\u001b[0mpage\u001b[0m\u001b[1;33m[\u001b[0m\u001b[1;34m'results'\u001b[0m\u001b[1;33m]\u001b[0m\u001b[1;33m[\u001b[0m\u001b[1;36m0\u001b[0m\u001b[1;33m]\u001b[0m\u001b[1;33m[\u001b[0m\u001b[1;34m'area'\u001b[0m\u001b[1;33m]\u001b[0m\u001b[1;33m)\u001b[0m\u001b[1;33m\u001b[0m\u001b[1;33m\u001b[0m\u001b[0m\n\u001b[0m",
      "\u001b[1;31mKeyError\u001b[0m: 'area'"
     ]
    }
   ],
   "source": [
    "#coor_df - dataframe of unique coordinates\n",
    "res['district_o'] = ''\n",
    "tube_stops = []\n",
    "\n",
    "#unique_coor = coor_df['coordinates'].tolist()\n",
    "for i in tqdm_notebook(range(len(data))):\n",
    "    lat = data['o_lat'][i]\n",
    "    lng = data['o_lng'][i]\n",
    "    \n",
    "    lat_0 = round(lat - 0.51, 4)\n",
    "    lng_0 = round(lng - 0.51, 4)\n",
    "    lat_1 = round(lat + 0.51, 4)\n",
    "    lng_1 = round(lng + 0.51, 4)\n",
    "    \n",
    "    #url = 'http://api.map.baidu.com/place/v2/search?query=' + quote('停车场') + f'&bounds={lat_0},{lng_0},{lat_1},{lng_1}&output=json&page_size=20&coord_type=1&ak=LlNVsWOsqmKwlqkUEBmzbpmbu2GAc2Dl'\n",
    "    url = 'http://api.map.baidu.com/place/v2/search?query=%E5%85%AC%E4%BA%A4%E7%AB%99'+f'&bounds={lat_0},{lng_0},{lat_1},{lng_1}&output=json&page_size=20&coord_type=1&ak=LlNVsWOsqmKwlqkUEBmzbpmbu2GAc2Dl'\n",
    "    response = urlopen(url)\n",
    "    page = json.load(response)  \n",
    "    tube_stops.append(page)\n",
    "    res.at[i, 'district_o'] = str(page['results'][0]['area'])\n"
   ]
  },
  {
   "cell_type": "code",
   "execution_count": 14,
   "metadata": {},
   "outputs": [],
   "source": [
    "\n",
    "res.to_csv('./extra_I.csv',index=False)"
   ]
  },
  {
   "cell_type": "code",
   "execution_count": 52,
   "metadata": {},
   "outputs": [],
   "source": [
    "res.drop(['bus_stops_o'],inplace=True,axis=1)"
   ]
  },
  {
   "cell_type": "code",
   "execution_count": 11,
   "metadata": {},
   "outputs": [],
   "source": [
    "test_queries['o_lng_trans'] = 0\n",
    "test_queries['o_lat_trans'] = 0"
   ]
  },
  {
   "cell_type": "code",
   "execution_count": 12,
   "metadata": {},
   "outputs": [
    {
     "name": "stderr",
     "output_type": "stream",
     "text": [
      "\n",
      "  0%|                                                                                       | 0/304916 [00:00<?, ?it/s]E:\\Anaconda\\lib\\site-packages\\ipykernel_launcher.py:12: SettingWithCopyWarning: \n",
      "A value is trying to be set on a copy of a slice from a DataFrame\n",
      "\n",
      "See the caveats in the documentation: http://pandas.pydata.org/pandas-docs/stable/indexing.html#indexing-view-versus-copy\n",
      "  if sys.path[0] == '':\n",
      "E:\\Anaconda\\lib\\site-packages\\ipykernel_launcher.py:13: SettingWithCopyWarning: \n",
      "A value is trying to be set on a copy of a slice from a DataFrame\n",
      "\n",
      "See the caveats in the documentation: http://pandas.pydata.org/pandas-docs/stable/indexing.html#indexing-view-versus-copy\n",
      "  del sys.path[0]\n",
      "\n",
      "  0%|                                                                            | 1/304916 [00:00<23:29:01,  3.61it/s]\n",
      "  0%|                                                                            | 2/304916 [00:00<22:10:00,  3.82it/s]\n",
      "  0%|                                                                            | 3/304916 [00:00<21:31:21,  3.94it/s]\n",
      "  0%|                                                                            | 4/304916 [00:00<20:52:08,  4.06it/s]\n",
      "  0%|                                                                            | 5/304916 [00:01<20:23:07,  4.15it/s]\n",
      "  0%|                                                                            | 6/304916 [00:01<19:46:10,  4.28it/s]\n",
      "  0%|                                                                            | 7/304916 [00:01<19:38:27,  4.31it/s]\n",
      "  0%|                                                                            | 8/304916 [00:01<19:31:54,  4.34it/s]\n",
      "  0%|                                                                            | 9/304916 [00:02<19:31:33,  4.34it/s]\n",
      "  0%|                                                                           | 10/304916 [00:02<19:31:16,  4.34it/s]\n",
      "  0%|                                                                           | 11/304916 [00:02<19:26:35,  4.36it/s]\n",
      "  0%|                                                                           | 12/304916 [00:02<19:17:11,  4.39it/s]\n",
      "  0%|                                                                           | 13/304916 [00:03<19:16:39,  4.39it/s]\n",
      "  0%|                                                                           | 14/304916 [00:03<19:02:40,  4.45it/s]\n",
      "  0%|                                                                           | 15/304916 [00:03<19:15:39,  4.40it/s]\n",
      "  0%|                                                                           | 16/304916 [00:03<19:35:28,  4.32it/s]\n",
      "  0%|                                                                           | 17/304916 [00:03<19:20:21,  4.38it/s]\n",
      "  0%|                                                                           | 18/304916 [00:04<19:15:55,  4.40it/s]\n",
      "  0%|                                                                           | 19/304916 [00:04<19:09:45,  4.42it/s]\n",
      "  0%|                                                                           | 20/304916 [00:04<19:11:29,  4.41it/s]\n",
      "  0%|                                                                           | 21/304916 [00:04<19:06:36,  4.43it/s]\n",
      "  0%|                                                                           | 22/304916 [00:05<18:58:37,  4.46it/s]\n",
      "  0%|                                                                           | 23/304916 [00:05<18:56:05,  4.47it/s]"
     ]
    },
    {
     "ename": "KeyboardInterrupt",
     "evalue": "",
     "output_type": "error",
     "traceback": [
      "\u001b[1;31m---------------------------------------------------------------------------\u001b[0m",
      "\u001b[1;31mKeyboardInterrupt\u001b[0m                         Traceback (most recent call last)",
      "\u001b[1;32m<ipython-input-12-7322b0bdb192>\u001b[0m in \u001b[0;36m<module>\u001b[1;34m\u001b[0m\n\u001b[0;32m     10\u001b[0m \u001b[1;33m\u001b[0m\u001b[0m\n\u001b[0;32m     11\u001b[0m     \u001b[1;31m#print (result['x'])\u001b[0m\u001b[1;33m\u001b[0m\u001b[1;33m\u001b[0m\u001b[1;33m\u001b[0m\u001b[0m\n\u001b[1;32m---> 12\u001b[1;33m     \u001b[0mtest_queries\u001b[0m\u001b[1;33m[\u001b[0m\u001b[1;34m'o_lng_trans'\u001b[0m\u001b[1;33m]\u001b[0m\u001b[1;33m[\u001b[0m\u001b[0mi\u001b[0m\u001b[1;33m]\u001b[0m \u001b[1;33m=\u001b[0m \u001b[0mround\u001b[0m\u001b[1;33m(\u001b[0m\u001b[0mresult\u001b[0m\u001b[1;33m[\u001b[0m\u001b[1;34m'x'\u001b[0m\u001b[1;33m]\u001b[0m\u001b[1;33m,\u001b[0m \u001b[1;36m6\u001b[0m\u001b[1;33m)\u001b[0m\u001b[1;33m\u001b[0m\u001b[1;33m\u001b[0m\u001b[0m\n\u001b[0m\u001b[0;32m     13\u001b[0m     \u001b[0mtest_queries\u001b[0m\u001b[1;33m[\u001b[0m\u001b[1;34m'o_lat_trans'\u001b[0m\u001b[1;33m]\u001b[0m\u001b[1;33m[\u001b[0m\u001b[0mi\u001b[0m\u001b[1;33m]\u001b[0m \u001b[1;33m=\u001b[0m \u001b[0mround\u001b[0m\u001b[1;33m(\u001b[0m\u001b[0mresult\u001b[0m\u001b[1;33m[\u001b[0m\u001b[1;34m'y'\u001b[0m\u001b[1;33m]\u001b[0m\u001b[1;33m,\u001b[0m \u001b[1;36m6\u001b[0m\u001b[1;33m)\u001b[0m\u001b[1;33m\u001b[0m\u001b[1;33m\u001b[0m\u001b[0m\n\u001b[0;32m     14\u001b[0m \u001b[1;33m\u001b[0m\u001b[0m\n",
      "\u001b[1;32mE:\\Anaconda\\lib\\site-packages\\pandas\\core\\series.py\u001b[0m in \u001b[0;36m__setitem__\u001b[1;34m(self, key, value)\u001b[0m\n\u001b[0;32m    936\u001b[0m \u001b[1;33m\u001b[0m\u001b[0m\n\u001b[0;32m    937\u001b[0m         \u001b[1;31m# do the setitem\u001b[0m\u001b[1;33m\u001b[0m\u001b[1;33m\u001b[0m\u001b[1;33m\u001b[0m\u001b[0m\n\u001b[1;32m--> 938\u001b[1;33m         \u001b[0mcacher_needs_updating\u001b[0m \u001b[1;33m=\u001b[0m \u001b[0mself\u001b[0m\u001b[1;33m.\u001b[0m\u001b[0m_check_is_chained_assignment_possible\u001b[0m\u001b[1;33m(\u001b[0m\u001b[1;33m)\u001b[0m\u001b[1;33m\u001b[0m\u001b[1;33m\u001b[0m\u001b[0m\n\u001b[0m\u001b[0;32m    939\u001b[0m         \u001b[0msetitem\u001b[0m\u001b[1;33m(\u001b[0m\u001b[0mkey\u001b[0m\u001b[1;33m,\u001b[0m \u001b[0mvalue\u001b[0m\u001b[1;33m)\u001b[0m\u001b[1;33m\u001b[0m\u001b[1;33m\u001b[0m\u001b[0m\n\u001b[0;32m    940\u001b[0m         \u001b[1;32mif\u001b[0m \u001b[0mcacher_needs_updating\u001b[0m\u001b[1;33m:\u001b[0m\u001b[1;33m\u001b[0m\u001b[1;33m\u001b[0m\u001b[0m\n",
      "\u001b[1;32mE:\\Anaconda\\lib\\site-packages\\pandas\\core\\generic.py\u001b[0m in \u001b[0;36m_check_is_chained_assignment_possible\u001b[1;34m(self)\u001b[0m\n\u001b[0;32m   2625\u001b[0m             \u001b[1;32mif\u001b[0m \u001b[0mref\u001b[0m \u001b[1;32mis\u001b[0m \u001b[1;32mnot\u001b[0m \u001b[1;32mNone\u001b[0m \u001b[1;32mand\u001b[0m \u001b[0mref\u001b[0m\u001b[1;33m.\u001b[0m\u001b[0m_is_mixed_type\u001b[0m\u001b[1;33m:\u001b[0m\u001b[1;33m\u001b[0m\u001b[1;33m\u001b[0m\u001b[0m\n\u001b[0;32m   2626\u001b[0m                 self._check_setitem_copy(stacklevel=4, t='referant',\n\u001b[1;32m-> 2627\u001b[1;33m                                          force=True)\n\u001b[0m\u001b[0;32m   2628\u001b[0m             \u001b[1;32mreturn\u001b[0m \u001b[1;32mTrue\u001b[0m\u001b[1;33m\u001b[0m\u001b[1;33m\u001b[0m\u001b[0m\n\u001b[0;32m   2629\u001b[0m         \u001b[1;32melif\u001b[0m \u001b[0mself\u001b[0m\u001b[1;33m.\u001b[0m\u001b[0m_is_copy\u001b[0m\u001b[1;33m:\u001b[0m\u001b[1;33m\u001b[0m\u001b[1;33m\u001b[0m\u001b[0m\n",
      "\u001b[1;32mE:\\Anaconda\\lib\\site-packages\\pandas\\core\\generic.py\u001b[0m in \u001b[0;36m_check_setitem_copy\u001b[1;34m(self, stacklevel, t, force)\u001b[0m\n\u001b[0;32m   2672\u001b[0m             \u001b[1;32mtry\u001b[0m\u001b[1;33m:\u001b[0m\u001b[1;33m\u001b[0m\u001b[1;33m\u001b[0m\u001b[0m\n\u001b[0;32m   2673\u001b[0m                 \u001b[0mgc\u001b[0m\u001b[1;33m.\u001b[0m\u001b[0mcollect\u001b[0m\u001b[1;33m(\u001b[0m\u001b[1;36m2\u001b[0m\u001b[1;33m)\u001b[0m\u001b[1;33m\u001b[0m\u001b[1;33m\u001b[0m\u001b[0m\n\u001b[1;32m-> 2674\u001b[1;33m                 \u001b[1;32mif\u001b[0m \u001b[1;32mnot\u001b[0m \u001b[0mgc\u001b[0m\u001b[1;33m.\u001b[0m\u001b[0mget_referents\u001b[0m\u001b[1;33m(\u001b[0m\u001b[0mself\u001b[0m\u001b[1;33m.\u001b[0m\u001b[0m_is_copy\u001b[0m\u001b[1;33m(\u001b[0m\u001b[1;33m)\u001b[0m\u001b[1;33m)\u001b[0m\u001b[1;33m:\u001b[0m\u001b[1;33m\u001b[0m\u001b[1;33m\u001b[0m\u001b[0m\n\u001b[0m\u001b[0;32m   2675\u001b[0m                     \u001b[0mself\u001b[0m\u001b[1;33m.\u001b[0m\u001b[0m_is_copy\u001b[0m \u001b[1;33m=\u001b[0m \u001b[1;32mNone\u001b[0m\u001b[1;33m\u001b[0m\u001b[1;33m\u001b[0m\u001b[0m\n\u001b[0;32m   2676\u001b[0m                     \u001b[1;32mreturn\u001b[0m\u001b[1;33m\u001b[0m\u001b[1;33m\u001b[0m\u001b[0m\n",
      "\u001b[1;31mKeyboardInterrupt\u001b[0m: "
     ]
    }
   ],
   "source": [
    "# 坐标转换爬虫\n",
    "for i in tqdm(range(len(test_queries))):\n",
    "    lat = test_queries['o_lat'][i]\n",
    "    lng = test_queries['o_lng'][i]\n",
    "    \n",
    "    url_bd = f'http://api.map.baidu.com/geoconv/v1/?coords={lng},{lat}&from=1&to=5&ak=QO908zX60IUFFEFlw5lIw7vOnQcabYFH'\n",
    "    response_bd = urlopen(url_bd)\n",
    "    \n",
    "    result = json.load(response_bd)['result'][0]\n",
    "    \n",
    "    #print (result['x'])\n",
    "    test_queries['o_lng_trans'][i] = round(result['x'], 6)\n",
    "    test_queries['o_lat_trans'][i] = round(result['y'], 6)\n",
    "    \n",
    "    time.sleep(0.1)"
   ]
  },
  {
   "cell_type": "code",
   "execution_count": 11,
   "metadata": {},
   "outputs": [
    {
     "data": {
      "text/plain": [
       "{'status': 220, 'message': 'APP Referer校验失败'}"
      ]
     },
     "execution_count": 11,
     "metadata": {},
     "output_type": "execute_result"
    }
   ],
   "source": [
    "json.load(response_bd)"
   ]
  },
  {
   "cell_type": "code",
   "execution_count": null,
   "metadata": {},
   "outputs": [],
   "source": []
  },
  {
   "cell_type": "code",
   "execution_count": null,
   "metadata": {},
   "outputs": [],
   "source": []
  }
 ],
 "metadata": {
  "kernelspec": {
   "display_name": "Python 3",
   "language": "python",
   "name": "python3"
  },
  "language_info": {
   "codemirror_mode": {
    "name": "ipython",
    "version": 3
   },
   "file_extension": ".py",
   "mimetype": "text/x-python",
   "name": "python",
   "nbconvert_exporter": "python",
   "pygments_lexer": "ipython3",
   "version": "3.7.1"
  },
  "toc": {
   "nav_menu": {},
   "number_sections": false,
   "sideBar": true,
   "skip_h1_title": false,
   "toc_cell": false,
   "toc_position": {},
   "toc_section_display": "block",
   "toc_window_display": false
  }
 },
 "nbformat": 4,
 "nbformat_minor": 2
}
